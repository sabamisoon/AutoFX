{
  "nbformat": 4,
  "nbformat_minor": 0,
  "metadata": {
    "colab": {
      "name": "AutoFX_1.ipynb",
      "provenance": [],
      "authorship_tag": "ABX9TyOzI2+Z6rHqRTI4WdRfGF4e",
      "include_colab_link": true
    },
    "kernelspec": {
      "name": "python3",
      "display_name": "Python 3"
    }
  },
  "cells": [
    {
      "cell_type": "markdown",
      "metadata": {
        "id": "view-in-github",
        "colab_type": "text"
      },
      "source": [
        "<a href=\"https://colab.research.google.com/github/sabamisoon/AutoFX/blob/master/AutoFX_1.ipynb\" target=\"_parent\"><img src=\"https://colab.research.google.com/assets/colab-badge.svg\" alt=\"Open In Colab\"/></a>"
      ]
    },
    {
      "cell_type": "code",
      "metadata": {
        "id": "zqk-rbbJgkKg",
        "colab_type": "code",
        "colab": {
          "base_uri": "https://localhost:8080/",
          "height": 187
        },
        "outputId": "4c2351a5-bab1-46ba-e7b9-b566e2b3cc95"
      },
      "source": [
        "!pip install oandapyV20"
      ],
      "execution_count": 1,
      "outputs": [
        {
          "output_type": "stream",
          "text": [
            "Collecting oandapyV20\n",
            "\u001b[?25l  Downloading https://files.pythonhosted.org/packages/0d/d5/f69c978f485db3048886c447398e39c6ec18041e689656e6d31697ea4e7f/oandapyV20-0.6.3.tar.gz (52kB)\n",
            "\r\u001b[K     |██████▏                         | 10kB 19.9MB/s eta 0:00:01\r\u001b[K     |████████████▍                   | 20kB 1.7MB/s eta 0:00:01\r\u001b[K     |██████████████████▋             | 30kB 2.2MB/s eta 0:00:01\r\u001b[K     |████████████████████████▉       | 40kB 2.4MB/s eta 0:00:01\r\u001b[K     |███████████████████████████████ | 51kB 1.9MB/s eta 0:00:01\r\u001b[K     |████████████████████████████████| 61kB 1.8MB/s \n",
            "\u001b[?25hBuilding wheels for collected packages: oandapyV20\n",
            "  Building wheel for oandapyV20 (setup.py) ... \u001b[?25l\u001b[?25hdone\n",
            "  Created wheel for oandapyV20: filename=oandapyV20-0.6.3-cp36-none-any.whl size=69742 sha256=bd321a7feb322ce175bfc56e1a6e551c33486b547ea4527671ebf3c5b51ee7cc\n",
            "  Stored in directory: /root/.cache/pip/wheels/2c/b0/cd/49054320a6cc51db0ff4f1ee15d8840375f16cef57b81ebfc0\n",
            "Successfully built oandapyV20\n",
            "Installing collected packages: oandapyV20\n",
            "Successfully installed oandapyV20-0.6.3\n"
          ],
          "name": "stdout"
        }
      ]
    },
    {
      "cell_type": "code",
      "metadata": {
        "id": "q1IACBOIiKo-",
        "colab_type": "code",
        "colab": {}
      },
      "source": [
        "from oandapyV20 import API\n",
        "accountID = \"101-009-15091813-001\"\n",
        "access_token = \"aaf617fd201e300e07f827bd55f91f5d-12cc2f32f07655a2b4fddb47cbaf483f\"\n",
        "api = API(access_token=access_token ,environment=\"practice\")"
      ],
      "execution_count": 0,
      "outputs": []
    },
    {
      "cell_type": "code",
      "metadata": {
        "id": "4_OfU6ifieY9",
        "colab_type": "code",
        "colab": {}
      },
      "source": [
        "import json\n",
        "from oandapyV20.exceptions import V20Error\n",
        "from oandapyV20.endpoints.pricing import PricingStream\n",
        "\n",
        "instruments = \"EUR_USD,EUR_JPY\"\n",
        "s = PricingStream(accountID=accountID, params={\"instruments\":instruments})\n",
        "MAXREC = 10\n",
        "try:\n",
        "    n = 0\n",
        "    for R in api.request(s):\n",
        "        print(json.dumps(R, indent=2))\n",
        "        n += 1\n",
        "        if n > MAXREC:\n",
        "            s.terminate(\"maxrecs received {}\".format(MAXREC)) \n",
        "except V20Error as e:\n",
        "    print(\"Error: {}\".format(e))"
      ],
      "execution_count": 0,
      "outputs": []
    },
    {
      "cell_type": "code",
      "metadata": {
        "id": "e8-JmHZQj9Pi",
        "colab_type": "code",
        "colab": {
          "base_uri": "https://localhost:8080/",
          "height": 153
        },
        "outputId": "9721be5c-81a0-4ea7-8789-2aad2ca9cc83"
      },
      "source": [
        "import json\n",
        "import pandas as pd\n",
        "import oandapyV20.endpoints.instruments as instruments\n",
        "from oandapyV20.types import DateTime\n",
        "from datetime import datetime ,timedelta\n",
        "from dateutil.relativedelta import relativedelta\n",
        "\n",
        "def get_equity_df( since ,until ,interval ,price ) :\n",
        "    cnt = 'mid' if price=='M' else 'ask' if price=='A' else 'bid' if price=='B' else 'mid'\n",
        "    params = { \"from\": DateTime( since ).value\n",
        "              ,\"to\": DateTime( until ).value\n",
        "              ,\"price\": price\n",
        "              ,\"granularity\": interval }\n",
        "    r = instruments.InstrumentsCandles( instrument=\"USD_JPY\" ,params=params )\n",
        "    api.request( r )    \n",
        "    raw_list = []\n",
        "    for raw in r.response['candles'] :\n",
        "        raw_list.append( [ raw['time'] ,raw[cnt]['o'] ,raw[cnt]['h'] ,raw[cnt]['l'] ,raw[cnt]['c'] ,raw['volume'] ] )\n",
        "    raw_df = pd.DataFrame( raw_list ,columns=[ 'Time' ,f'Open_{cnt}' ,f'High_{cnt}' ,f'Low_{cnt}' ,f'Close_{cnt}' ,'Volume' ] )\n",
        "    return raw_df\n",
        "\n",
        "\n",
        "start    = datetime.strptime( '2005-01-01' ,'%Y-%m-%d' )\n",
        "end      = datetime.strptime( '2019-12-31' ,'%Y-%m-%d' )\n",
        "month    = 12 * 2 #上限5000レコード\n",
        "interval = 'H4'\n",
        "restart  = 0\n",
        "\n",
        "since = start + relativedelta( months=( restart ) )\n",
        "until = start + relativedelta( months=( month + restart ) )\n",
        "df = pd.DataFrame()\n",
        "\n",
        "while True :\n",
        "    if until > datetime.now() :\n",
        "        until = datetime.now()\n",
        "        if relativedelta( since ,until ).months==0 : break\n",
        "    \n",
        "    print( f'since:{ since } ,until:{ until }' )\n",
        "\n",
        "    raw_a = get_equity_df( since ,until ,interval ,'A' )\n",
        "    raw_b = get_equity_df( since ,until ,interval ,'B' )\n",
        "    raw = pd.merge( raw_a ,raw_b )\n",
        "    raw = raw.set_index( 'Time' )\n",
        "    raw.index = pd.to_datetime( raw.index )\n",
        "\n",
        "    df = pd.concat( [ df ,raw ] )\n",
        "\n",
        "    since = until\n",
        "    until = until + relativedelta( months=month )\n",
        "    if since >= end : break"
      ],
      "execution_count": 9,
      "outputs": [
        {
          "output_type": "stream",
          "text": [
            "since:2005-01-01 00:00:00 ,until:2007-01-01 00:00:00\n",
            "since:2007-01-01 00:00:00 ,until:2009-01-01 00:00:00\n",
            "since:2009-01-01 00:00:00 ,until:2011-01-01 00:00:00\n",
            "since:2011-01-01 00:00:00 ,until:2013-01-01 00:00:00\n",
            "since:2013-01-01 00:00:00 ,until:2015-01-01 00:00:00\n",
            "since:2015-01-01 00:00:00 ,until:2017-01-01 00:00:00\n",
            "since:2017-01-01 00:00:00 ,until:2019-01-01 00:00:00\n",
            "since:2019-01-01 00:00:00 ,until:2020-06-03 14:23:14.454150\n"
          ],
          "name": "stdout"
        }
      ]
    },
    {
      "cell_type": "code",
      "metadata": {
        "id": "yPPFWtWikVN2",
        "colab_type": "code",
        "colab": {
          "base_uri": "https://localhost:8080/",
          "height": 816
        },
        "outputId": "486513e0-9ee4-414d-854d-ad63224b5a25"
      },
      "source": [
        "import oandapyV20.endpoints.orders as orders\n",
        "order_data = {\n",
        "        \"order\": {\n",
        "          \"instrument\": \"USD_JPY\",\n",
        "            \"units\": \"+100\",\n",
        "            \"type\": \"MARKET\",\n",
        "          }\n",
        "      }\n",
        "o = orders.OrderCreate(accountID, data=order_data)\n",
        "api.request( o )\n",
        "o.response"
      ],
      "execution_count": 10,
      "outputs": [
        {
          "output_type": "execute_result",
          "data": {
            "text/plain": [
              "{'lastTransactionID': '5',\n",
              " 'orderCreateTransaction': {'accountID': '101-009-15091813-001',\n",
              "  'batchID': '4',\n",
              "  'id': '4',\n",
              "  'instrument': 'USD_JPY',\n",
              "  'positionFill': 'DEFAULT',\n",
              "  'reason': 'CLIENT_ORDER',\n",
              "  'requestID': '60717148028986081',\n",
              "  'time': '2020-06-03T14:24:32.733444035Z',\n",
              "  'timeInForce': 'FOK',\n",
              "  'type': 'MARKET_ORDER',\n",
              "  'units': '100',\n",
              "  'userID': 15091813},\n",
              " 'orderFillTransaction': {'accountBalance': '3000000.0000',\n",
              "  'accountID': '101-009-15091813-001',\n",
              "  'batchID': '4',\n",
              "  'commission': '0.0000',\n",
              "  'financing': '0.0000',\n",
              "  'fullPrice': {'asks': [{'liquidity': '250000', 'price': '108.736'}],\n",
              "   'bids': [{'liquidity': '250000', 'price': '108.732'}],\n",
              "   'closeoutAsk': '108.741',\n",
              "   'closeoutBid': '108.727',\n",
              "   'timestamp': '2020-06-03T14:24:31.497655798Z'},\n",
              "  'fullVWAP': '108.736',\n",
              "  'gainQuoteHomeConversionFactor': '1',\n",
              "  'guaranteedExecutionFee': '0.0000',\n",
              "  'halfSpreadCost': '0.2000',\n",
              "  'id': '5',\n",
              "  'instrument': 'USD_JPY',\n",
              "  'lossQuoteHomeConversionFactor': '1',\n",
              "  'orderID': '4',\n",
              "  'pl': '0.0000',\n",
              "  'price': '108.736',\n",
              "  'reason': 'MARKET_ORDER',\n",
              "  'requestID': '60717148028986081',\n",
              "  'requestedUnits': '100',\n",
              "  'time': '2020-06-03T14:24:32.733444035Z',\n",
              "  'tradeOpened': {'guaranteedExecutionFee': '0.0000',\n",
              "   'halfSpreadCost': '0.2000',\n",
              "   'initialMarginRequired': '434.9360',\n",
              "   'price': '108.736',\n",
              "   'tradeID': '5',\n",
              "   'units': '100'},\n",
              "  'type': 'ORDER_FILL',\n",
              "  'units': '100',\n",
              "  'userID': 15091813},\n",
              " 'relatedTransactionIDs': ['4', '5']}"
            ]
          },
          "metadata": {
            "tags": []
          },
          "execution_count": 10
        }
      ]
    },
    {
      "cell_type": "code",
      "metadata": {
        "id": "vBaqhnGJkvxI",
        "colab_type": "code",
        "colab": {
          "base_uri": "https://localhost:8080/",
          "height": 867
        },
        "outputId": "3957e5dd-4aed-4aca-dc84-f419636ca3f1"
      },
      "source": [
        "import oandapyV20.endpoints.orders as orders\n",
        "order_data = {\n",
        "        \"order\": {\n",
        "           \"price\": \"107.765\"\n",
        "          ,\"instrument\": \"USD_JPY\"\n",
        "          ,\"units\": \"+10000\"\n",
        "          ,\"type\": \"STOP\"\n",
        "          }\n",
        "      }\n",
        "o = orders.OrderCreate(accountID, data=order_data)\n",
        "api.request( o )\n",
        "o.response"
      ],
      "execution_count": 11,
      "outputs": [
        {
          "output_type": "execute_result",
          "data": {
            "text/plain": [
              "{'lastTransactionID': '7',\n",
              " 'orderCreateTransaction': {'accountID': '101-009-15091813-001',\n",
              "  'batchID': '6',\n",
              "  'id': '6',\n",
              "  'instrument': 'USD_JPY',\n",
              "  'partialFill': 'DEFAULT',\n",
              "  'positionFill': 'DEFAULT',\n",
              "  'price': '107.765',\n",
              "  'reason': 'CLIENT_ORDER',\n",
              "  'requestID': '42702749883017247',\n",
              "  'time': '2020-06-03T14:25:58.142172483Z',\n",
              "  'timeInForce': 'GTC',\n",
              "  'triggerCondition': 'DEFAULT',\n",
              "  'type': 'STOP_ORDER',\n",
              "  'units': '10000',\n",
              "  'userID': 15091813},\n",
              " 'orderFillTransaction': {'accountBalance': '3000000.0000',\n",
              "  'accountID': '101-009-15091813-001',\n",
              "  'batchID': '6',\n",
              "  'commission': '0.0000',\n",
              "  'financing': '0.0000',\n",
              "  'fullPrice': {'asks': [{'liquidity': '250000', 'price': '108.706'}],\n",
              "   'bids': [{'liquidity': '250000', 'price': '108.702'}],\n",
              "   'closeoutAsk': '108.711',\n",
              "   'closeoutBid': '108.698',\n",
              "   'timestamp': '2020-06-03T14:25:57.987001477Z'},\n",
              "  'fullVWAP': '108.706',\n",
              "  'gainQuoteHomeConversionFactor': '1',\n",
              "  'guaranteedExecutionFee': '0.0000',\n",
              "  'halfSpreadCost': '20.0000',\n",
              "  'id': '7',\n",
              "  'instrument': 'USD_JPY',\n",
              "  'lossQuoteHomeConversionFactor': '1',\n",
              "  'orderID': '6',\n",
              "  'pl': '0.0000',\n",
              "  'price': '108.706',\n",
              "  'reason': 'STOP_ORDER',\n",
              "  'requestID': '42702749883017247',\n",
              "  'requestedUnits': '10000',\n",
              "  'time': '2020-06-03T14:25:58.142172483Z',\n",
              "  'tradeOpened': {'guaranteedExecutionFee': '0.0000',\n",
              "   'halfSpreadCost': '20.0000',\n",
              "   'initialMarginRequired': '43481.6000',\n",
              "   'price': '108.706',\n",
              "   'tradeID': '7',\n",
              "   'units': '10000'},\n",
              "  'type': 'ORDER_FILL',\n",
              "  'units': '10000',\n",
              "  'userID': 15091813},\n",
              " 'relatedTransactionIDs': ['6', '7']}"
            ]
          },
          "metadata": {
            "tags": []
          },
          "execution_count": 11
        }
      ]
    },
    {
      "cell_type": "code",
      "metadata": {
        "id": "Tfe7A1O1k1Ns",
        "colab_type": "code",
        "colab": {
          "base_uri": "https://localhost:8080/",
          "height": 34
        },
        "outputId": "8d462f67-d9d5-47b6-b8b4-884647d99b0c"
      },
      "source": [
        "import oandapyV20.endpoints.orders as orders\n",
        "c = orders.OrdersPending( accountID )\n",
        "api.request( c )\n",
        "c.response"
      ],
      "execution_count": 12,
      "outputs": [
        {
          "output_type": "execute_result",
          "data": {
            "text/plain": [
              "{'lastTransactionID': '7', 'orders': []}"
            ]
          },
          "metadata": {
            "tags": []
          },
          "execution_count": 12
        }
      ]
    },
    {
      "cell_type": "code",
      "metadata": {
        "id": "PhKEd2xPk69S",
        "colab_type": "code",
        "colab": {
          "base_uri": "https://localhost:8080/",
          "height": 221
        },
        "outputId": "1415813d-cba1-4392-e463-c75919f662ae"
      },
      "source": [
        "import oandapyV20.endpoints.orders as orders\n",
        "c = orders.OrderDetails( accountID ,orderID='4' )\n",
        "api.request( c )\n",
        "c.response"
      ],
      "execution_count": 13,
      "outputs": [
        {
          "output_type": "execute_result",
          "data": {
            "text/plain": [
              "{'lastTransactionID': '7',\n",
              " 'order': {'createTime': '2020-06-03T14:24:32.733444035Z',\n",
              "  'filledTime': '2020-06-03T14:24:32.733444035Z',\n",
              "  'fillingTransactionID': '5',\n",
              "  'id': '4',\n",
              "  'instrument': 'USD_JPY',\n",
              "  'positionFill': 'DEFAULT',\n",
              "  'state': 'FILLED',\n",
              "  'timeInForce': 'FOK',\n",
              "  'tradeOpenedID': '5',\n",
              "  'type': 'MARKET',\n",
              "  'units': '100'}}"
            ]
          },
          "metadata": {
            "tags": []
          },
          "execution_count": 13
        }
      ]
    },
    {
      "cell_type": "code",
      "metadata": {
        "id": "BXe3AtbwlUC8",
        "colab_type": "code",
        "colab": {
          "base_uri": "https://localhost:8080/",
          "height": 969
        },
        "outputId": "b51f45be-c035-4184-b455-74809d98faed"
      },
      "source": [
        "import oandapyV20.endpoints.positions as positions\n",
        "position_data = { \"longUnits\": \"ALL\" }\n",
        "p = positions.PositionClose( accountID=accountID, data=position_data, instrument=\"USD_JPY\" )\n",
        "api.request( p )\n",
        "p.response"
      ],
      "execution_count": 14,
      "outputs": [
        {
          "output_type": "execute_result",
          "data": {
            "text/plain": [
              "{'lastTransactionID': '9',\n",
              " 'longOrderCreateTransaction': {'accountID': '101-009-15091813-001',\n",
              "  'batchID': '8',\n",
              "  'id': '8',\n",
              "  'instrument': 'USD_JPY',\n",
              "  'longPositionCloseout': {'instrument': 'USD_JPY', 'units': 'ALL'},\n",
              "  'positionFill': 'REDUCE_ONLY',\n",
              "  'reason': 'POSITION_CLOSEOUT',\n",
              "  'requestID': '78731547524149902',\n",
              "  'time': '2020-06-03T14:28:27.179072532Z',\n",
              "  'timeInForce': 'FOK',\n",
              "  'type': 'MARKET_ORDER',\n",
              "  'units': '-10100',\n",
              "  'userID': 15091813},\n",
              " 'longOrderFillTransaction': {'accountBalance': '2999815.2000',\n",
              "  'accountID': '101-009-15091813-001',\n",
              "  'batchID': '8',\n",
              "  'commission': '0.0000',\n",
              "  'financing': '0.0000',\n",
              "  'fullPrice': {'asks': [{'liquidity': '250000', 'price': '108.692'}],\n",
              "   'bids': [{'liquidity': '250000', 'price': '108.688'}],\n",
              "   'closeoutAsk': '108.697',\n",
              "   'closeoutBid': '108.684',\n",
              "   'timestamp': '2020-06-03T14:28:27.014828473Z'},\n",
              "  'fullVWAP': '108.688',\n",
              "  'gainQuoteHomeConversionFactor': '1',\n",
              "  'guaranteedExecutionFee': '0.0000',\n",
              "  'halfSpreadCost': '20.2000',\n",
              "  'id': '9',\n",
              "  'instrument': 'USD_JPY',\n",
              "  'lossQuoteHomeConversionFactor': '1',\n",
              "  'orderID': '8',\n",
              "  'pl': '-184.8000',\n",
              "  'price': '108.688',\n",
              "  'reason': 'MARKET_ORDER_POSITION_CLOSEOUT',\n",
              "  'requestID': '78731547524149902',\n",
              "  'requestedUnits': '-10100',\n",
              "  'time': '2020-06-03T14:28:27.179072532Z',\n",
              "  'tradesClosed': [{'financing': '0.0000',\n",
              "    'guaranteedExecutionFee': '0.0000',\n",
              "    'halfSpreadCost': '0.2000',\n",
              "    'price': '108.688',\n",
              "    'realizedPL': '-4.8000',\n",
              "    'tradeID': '5',\n",
              "    'units': '-100'},\n",
              "   {'financing': '0.0000',\n",
              "    'guaranteedExecutionFee': '0.0000',\n",
              "    'halfSpreadCost': '20.0000',\n",
              "    'price': '108.688',\n",
              "    'realizedPL': '-180.0000',\n",
              "    'tradeID': '7',\n",
              "    'units': '-10000'}],\n",
              "  'type': 'ORDER_FILL',\n",
              "  'units': '-10100',\n",
              "  'userID': 15091813},\n",
              " 'relatedTransactionIDs': ['8', '9']}"
            ]
          },
          "metadata": {
            "tags": []
          },
          "execution_count": 14
        }
      ]
    },
    {
      "cell_type": "code",
      "metadata": {
        "id": "JaHwbg8HleZ6",
        "colab_type": "code",
        "colab": {
          "base_uri": "https://localhost:8080/",
          "height": 202
        },
        "outputId": "dad430af-a825-4bfe-e57c-f2cf8db56488"
      },
      "source": [
        "import oandapyV20.endpoints.positions as positions\n",
        "p = positions.PositionDetails(accountID=accountID, instrument=\"USD_JPY\")\n",
        "api.request( p )\n",
        "p.respons"
      ],
      "execution_count": 15,
      "outputs": [
        {
          "output_type": "error",
          "ename": "AttributeError",
          "evalue": "ignored",
          "traceback": [
            "\u001b[0;31m---------------------------------------------------------------------------\u001b[0m",
            "\u001b[0;31mAttributeError\u001b[0m                            Traceback (most recent call last)",
            "\u001b[0;32m<ipython-input-15-813854ce05c3>\u001b[0m in \u001b[0;36m<module>\u001b[0;34m()\u001b[0m\n\u001b[1;32m      2\u001b[0m \u001b[0mp\u001b[0m \u001b[0;34m=\u001b[0m \u001b[0mpositions\u001b[0m\u001b[0;34m.\u001b[0m\u001b[0mPositionDetails\u001b[0m\u001b[0;34m(\u001b[0m\u001b[0maccountID\u001b[0m\u001b[0;34m=\u001b[0m\u001b[0maccountID\u001b[0m\u001b[0;34m,\u001b[0m \u001b[0minstrument\u001b[0m\u001b[0;34m=\u001b[0m\u001b[0;34m\"USD_JPY\"\u001b[0m\u001b[0;34m)\u001b[0m\u001b[0;34m\u001b[0m\u001b[0;34m\u001b[0m\u001b[0m\n\u001b[1;32m      3\u001b[0m \u001b[0mapi\u001b[0m\u001b[0;34m.\u001b[0m\u001b[0mrequest\u001b[0m\u001b[0;34m(\u001b[0m \u001b[0mp\u001b[0m \u001b[0;34m)\u001b[0m\u001b[0;34m\u001b[0m\u001b[0;34m\u001b[0m\u001b[0m\n\u001b[0;32m----> 4\u001b[0;31m \u001b[0mp\u001b[0m\u001b[0;34m.\u001b[0m\u001b[0mrespons\u001b[0m\u001b[0;34m\u001b[0m\u001b[0;34m\u001b[0m\u001b[0m\n\u001b[0m",
            "\u001b[0;31mAttributeError\u001b[0m: 'PositionDetails' object has no attribute 'respons'"
          ]
        }
      ]
    }
  ]
}