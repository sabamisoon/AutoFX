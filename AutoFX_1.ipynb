{
  "nbformat": 4,
  "nbformat_minor": 0,
  "metadata": {
    "colab": {
      "name": "AutoFX_1.ipynb",
      "provenance": [],
      "authorship_tag": "ABX9TyOzI2+Z6rHqRTI4WdRfGF4e",
      "include_colab_link": true
    },
    "kernelspec": {
      "name": "python3",
      "display_name": "Python 3"
    }
  },
  "cells": [
    {
      "cell_type": "markdown",
      "metadata": {
        "id": "view-in-github",
        "colab_type": "text"
      },
      "source": [
        "<a href=\"https://colab.research.google.com/github/sabamisoon/AutoFX/blob/master/AutoFX_1.ipynb\" target=\"_parent\"><img src=\"https://colab.research.google.com/assets/colab-badge.svg\" alt=\"Open In Colab\"/></a>"
      ]
    },
    {
      "cell_type": "code",
      "metadata": {
        "id": "zqk-rbbJgkKg",
        "colab_type": "code",
        "colab": {}
      },
      "source": [
        "!pip install oandapyV20"
      ],
      "execution_count": 0,
      "outputs": []
    },
    {
      "cell_type": "code",
      "metadata": {
        "id": "q1IACBOIiKo-",
        "colab_type": "code",
        "colab": {}
      },
      "source": [
        "from oandapyV20 import API\n",
        "accountID = \"***************\"\n",
        "access_token = \"************************\"\n",
        "api = API(access_token=access_token ,environment=\"practice\")"
      ],
      "execution_count": 0,
      "outputs": []
    },
    {
      "cell_type": "code",
      "metadata": {
        "id": "4_OfU6ifieY9",
        "colab_type": "code",
        "colab": {}
      },
      "source": [
        "import json\n",
        "from oandapyV20.exceptions import V20Error\n",
        "from oandapyV20.endpoints.pricing import PricingStream\n",
        "\n",
        "instruments = \"EUR_USD,EUR_JPY\"\n",
        "s = PricingStream(accountID=accountID, params={\"instruments\":instruments})\n",
        "MAXREC = 10\n",
        "try:\n",
        "    n = 0\n",
        "    for R in api.request(s):\n",
        "        print(json.dumps(R, indent=2))\n",
        "        n += 1\n",
        "        if n > MAXREC:\n",
        "            s.terminate(\"maxrecs received {}\".format(MAXREC)) \n",
        "except V20Error as e:\n",
        "    print(\"Error: {}\".format(e))"
      ],
      "execution_count": 0,
      "outputs": []
    },
    {
      "cell_type": "code",
      "metadata": {
        "id": "e8-JmHZQj9Pi",
        "colab_type": "code",
        "colab": {}
      },
      "source": [
        "import json\n",
        "import pandas as pd\n",
        "import oandapyV20.endpoints.instruments as instruments\n",
        "from oandapyV20.types import DateTime\n",
        "from datetime import datetime ,timedelta\n",
        "from dateutil.relativedelta import relativedelta\n",
        "\n",
        "def get_equity_df( since ,until ,interval ,price ) :\n",
        "    cnt = 'mid' if price=='M' else 'ask' if price=='A' else 'bid' if price=='B' else 'mid'\n",
        "    params = { \"from\": DateTime( since ).value\n",
        "              ,\"to\": DateTime( until ).value\n",
        "              ,\"price\": price\n",
        "              ,\"granularity\": interval }\n",
        "    r = instruments.InstrumentsCandles( instrument=\"USD_JPY\" ,params=params )\n",
        "    api.request( r )    \n",
        "    raw_list = []\n",
        "    for raw in r.response['candles'] :\n",
        "        raw_list.append( [ raw['time'] ,raw[cnt]['o'] ,raw[cnt]['h'] ,raw[cnt]['l'] ,raw[cnt]['c'] ,raw['volume'] ] )\n",
        "    raw_df = pd.DataFrame( raw_list ,columns=[ 'Time' ,f'Open_{cnt}' ,f'High_{cnt}' ,f'Low_{cnt}' ,f'Close_{cnt}' ,'Volume' ] )\n",
        "    return raw_df\n",
        "\n",
        "\n",
        "start    = datetime.strptime( '2005-01-01' ,'%Y-%m-%d' )\n",
        "end      = datetime.strptime( '2019-12-31' ,'%Y-%m-%d' )\n",
        "month    = 12 * 2 #上限5000レコード\n",
        "interval = 'H4'\n",
        "restart  = 0\n",
        "\n",
        "since = start + relativedelta( months=( restart ) )\n",
        "until = start + relativedelta( months=( month + restart ) )\n",
        "df = pd.DataFrame()\n",
        "\n",
        "while True :\n",
        "    if until > datetime.now() :\n",
        "        until = datetime.now()\n",
        "        if relativedelta( since ,until ).months==0 : break\n",
        "    \n",
        "    print( f'since:{ since } ,until:{ until }' )\n",
        "\n",
        "    raw_a = get_equity_df( since ,until ,interval ,'A' )\n",
        "    raw_b = get_equity_df( since ,until ,interval ,'B' )\n",
        "    raw = pd.merge( raw_a ,raw_b )\n",
        "    raw = raw.set_index( 'Time' )\n",
        "    raw.index = pd.to_datetime( raw.index )\n",
        "\n",
        "    df = pd.concat( [ df ,raw ] )\n",
        "\n",
        "    since = until\n",
        "    until = until + relativedelta( months=month )\n",
        "    if since >= end : break"
      ],
      "execution_count": 0,
      "outputs": []
    },
    {
      "cell_type": "code",
      "metadata": {
        "id": "yPPFWtWikVN2",
        "colab_type": "code",
        "colab": {}
      },
      "source": [
        "import oandapyV20.endpoints.orders as orders\n",
        "order_data = {\n",
        "        \"order\": {\n",
        "          \"instrument\": \"USD_JPY\",\n",
        "            \"units\": \"+100\",\n",
        "            \"type\": \"MARKET\",\n",
        "          }\n",
        "      }\n",
        "o = orders.OrderCreate(accountID, data=order_data)\n",
        "api.request( o )\n",
        "o.response"
      ],
      "execution_count": 0,
      "outputs": []
    },
    {
      "cell_type": "code",
      "metadata": {
        "id": "vBaqhnGJkvxI",
        "colab_type": "code",
        "colab": {}
      },
      "source": [
        "import oandapyV20.endpoints.orders as orders\n",
        "order_data = {\n",
        "        \"order\": {\n",
        "           \"price\": \"107.765\"\n",
        "          ,\"instrument\": \"USD_JPY\"\n",
        "          ,\"units\": \"+10000\"\n",
        "          ,\"type\": \"STOP\"\n",
        "          }\n",
        "      }\n",
        "o = orders.OrderCreate(accountID, data=order_data)\n",
        "api.request( o )\n",
        "o.response"
      ],
      "execution_count": 0,
      "outputs": []
    },
    {
      "cell_type": "code",
      "metadata": {
        "id": "Tfe7A1O1k1Ns",
        "colab_type": "code",
        "colab": {}
      },
      "source": [
        "import oandapyV20.endpoints.orders as orders\n",
        "c = orders.OrdersPending( accountID )\n",
        "api.request( c )\n",
        "c.response"
      ],
      "execution_count": 0,
      "outputs": []
    },
    {
      "cell_type": "code",
      "metadata": {
        "id": "PhKEd2xPk69S",
        "colab_type": "code",
        "colab": {}
      },
      "source": [
        "import oandapyV20.endpoints.orders as orders\n",
        "c = orders.OrderDetails( accountID ,orderID='4' )\n",
        "api.request( c )\n",
        "c.response"
      ],
      "execution_count": 0,
      "outputs": []
    },
    {
      "cell_type": "code",
      "metadata": {
        "id": "BXe3AtbwlUC8",
        "colab_type": "code",
        "colab": {}
      },
      "source": [
        "import oandapyV20.endpoints.positions as positions\n",
        "position_data = { \"longUnits\": \"ALL\" }\n",
        "p = positions.PositionClose( accountID=accountID, data=position_data, instrument=\"USD_JPY\" )\n",
        "api.request( p )\n",
        "p.response"
      ],
      "execution_count": 0,
      "outputs": []
    },
    {
      "cell_type": "code",
      "metadata": {
        "id": "JaHwbg8HleZ6",
        "colab_type": "code",
        "colab": {}
      },
      "source": [
        "import oandapyV20.endpoints.positions as positions\n",
        "p = positions.PositionDetails(accountID=accountID, instrument=\"USD_JPY\")\n",
        "api.request( p )\n",
        "p.respons"
      ],
      "execution_count": 0,
      "outputs": []
    }
  ]
}
